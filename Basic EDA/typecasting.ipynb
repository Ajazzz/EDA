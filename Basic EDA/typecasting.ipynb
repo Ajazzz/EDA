# In Python, type casting (or type conversion) is the process of converting an object of one data type to another data type. 
# There are several built-in functions in Python that can be used to perform type casting:
